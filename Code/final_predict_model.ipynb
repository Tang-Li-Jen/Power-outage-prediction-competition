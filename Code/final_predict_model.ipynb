{
 "cells": [
  {
   "cell_type": "code",
   "execution_count": 1,
   "metadata": {},
   "outputs": [
    {
     "name": "stderr",
     "output_type": "stream",
     "text": [
      "/usr/local/lib/python2.7/site-packages/sklearn/cross_validation.py:44: DeprecationWarning: This module was deprecated in version 0.18 in favor of the model_selection module into which all the refactored classes and functions are moved. Also note that the interface of the new CV iterators are different from that of this module. This module will be removed in 0.20.\n",
      "  \"This module will be removed in 0.20.\", DeprecationWarning)\n"
     ]
    }
   ],
   "source": [
    "import numpy as np\n",
    "import pandas as pd\n",
    "import os\n",
    "import glob\n",
    "import xml.etree.ElementTree as ET\n",
    "from sklearn.ensemble import RandomForestRegressor\n",
    "from sklearn.metrics import mean_squared_error\n",
    "from sklearn.model_selection import cross_val_score\n",
    "from sklearn.model_selection import KFold, train_test_split\n",
    "import xgboost as xgb\n",
    "from sklearn import linear_model\n",
    "from math import sqrt\n",
    "import lightgbm as lgb \n",
    "import catboost as ctb\n",
    "import matplotlib.pyplot as plt\n",
    "from tabulate import tabulate\n",
    "from sklearn.decomposition import PCA"
   ]
  },
  {
   "cell_type": "code",
   "execution_count": 2,
   "metadata": {
    "collapsed": true
   },
   "outputs": [],
   "source": [
    "data_path = '/Users/charlie/Desktop/Taipower/data/'"
   ]
  },
  {
   "cell_type": "code",
   "execution_count": 3,
   "metadata": {
    "collapsed": true
   },
   "outputs": [],
   "source": [
    "df3 = pd.read_csv(data_path +'df_1120.csv')"
   ]
  },
  {
   "cell_type": "code",
   "execution_count": 4,
   "metadata": {},
   "outputs": [
    {
     "name": "stdout",
     "output_type": "stream",
     "text": [
      "Series([], dtype: bool)\n"
     ]
    }
   ],
   "source": [
    "# find missing value and impute\n",
    "print df3.isnull().any()[df3.isnull().any() ==True]\n",
    "df3 =  df3.fillna(0)"
   ]
  },
  {
   "cell_type": "code",
   "execution_count": 5,
   "metadata": {
    "collapsed": true
   },
   "outputs": [],
   "source": [
    "# dependent variable transform\n",
    "#df3['y1'] = df3['elect_down']+1\n",
    "#df3['log_elect_down'] = np.log(df3.y1.values)\n",
    "#df3['square_elect_down'] = np.square(df3.elect_down)\n",
    "#df3.loc[df3.r10_km > 0 ,'r10_km_y'] =1\n",
    "#df3.loc[df3.r10_km == 0 ,'r10_km_y'] =0"
   ]
  },
  {
   "cell_type": "code",
   "execution_count": 6,
   "metadata": {},
   "outputs": [
    {
     "name": "stdout",
     "output_type": "stream",
     "text": [
      "15702\n",
      "62808\n",
      "78510\n"
     ]
    }
   ],
   "source": [
    "#split data to train and test\n",
    "te = df3.loc[(df3.typhoon=='NESATANDHAITANG')|(df3.typhoon=='MEGI'),:]\n",
    "keep = list(set(df3.index) - set(te.index))\n",
    "tr = df3.iloc[keep,:]\n",
    "print len(te)\n",
    "print len(tr)\n",
    "print len(df3)\n"
   ]
  },
  {
   "cell_type": "code",
   "execution_count": 7,
   "metadata": {},
   "outputs": [],
   "source": [
    "#best model variable\n",
    "var1 = ['year','type','magnitude','hpa','wind_speed','r7_km','r10_km','alert_level','arrive_month','arrive_hour',\n",
    "       'arrive_weekday','arrive_week','duration_h','pole_type_counts',\n",
    " 'p1', 'p2', 'p3','p4','p5','p6','p7','p8','p9', 'p10',\n",
    "       'pole_counts','double_kill', 'people_total','area','population_density',\n",
    "            'mean_accu_hour_rain', 'mean_accu_day_rain', 'accu_rain',\n",
    "       'heavy_rain_count_rule1', 'heavy_rain_count_rule2',\n",
    "       'how_rain_count_rule1', 'big_how_rain_count',\n",
    "       'big_big_how_rain_count','mean_hr_wsmax', 'mean_hr_wsgust', 'max_hr_wsmax', 'max_hr_wsgust',\n",
    "      'region_cluster','max_intensityOverDsqrt_time_10000_log2',\n",
    "      'non_profit_contract_amount', 'profit_contract_amount',\n",
    "       'non_profit_household_amount', 'profit_household_amount',\n",
    "       'non_profit_monthly_power_sales_amount',\n",
    "       'profit_monthly_power_sales_amount', 'sum_contract_amount',\n",
    "       'sum_household_amount', 'sum_monthly_power_sales_amount']"
   ]
  },
  {
   "cell_type": "code",
   "execution_count": 8,
   "metadata": {},
   "outputs": [
    {
     "name": "stdout",
     "output_type": "stream",
     "text": [
      "62808 62808\n",
      "7851 7851\n"
     ]
    }
   ],
   "source": [
    "# train data\n",
    "tr_x = tr.loc[:,var1]\n",
    "tr_y = tr.loc[:,'elect_down']\n",
    "# test data\n",
    "te_N = te.loc[te.typhoon =='NESATANDHAITANG', var1]\n",
    "te_M = te.loc[te.typhoon =='MEGI', var1]\n",
    "\n",
    "print len(tr_x) , len(tr_y)\n",
    "print len(te_N) , len(te_M)"
   ]
  },
  {
   "cell_type": "code",
   "execution_count": 9,
   "metadata": {},
   "outputs": [
    {
     "name": "stdout",
     "output_type": "stream",
     "text": [
      "name                                          score\n",
      "max_hr_wsgust                           0.171643\n",
      "p6                                      0.133181\n",
      "max_intensityOverDsqrt_time_10000_log2  0.117822\n",
      "pole_counts                             0.0863526\n",
      "p5                                      0.0689635\n",
      "p2                                      0.034852\n",
      "area                                    0.0326341\n",
      "p4                                      0.0270884\n",
      "population_density                      0.026097\n",
      "region_cluster                          0.0227191\n",
      "mean_accu_hour_rain                     0.0211926\n",
      "pole_type_counts                        0.0179001\n",
      "non_profit_contract_amount              0.0175494\n",
      "profit_monthly_power_sales_amount       0.0171167\n",
      "non_profit_household_amount             0.0157411\n",
      "max_hr_wsmax                            0.0150098\n",
      "sum_household_amount                    0.0144322\n",
      "profit_household_amount                 0.013433\n",
      "non_profit_monthly_power_sales_amount   0.0132074\n",
      "profit_contract_amount                  0.0131355\n",
      "r7_km                                   0.0122196\n",
      "people_total                            0.011949\n",
      "sum_monthly_power_sales_amount          0.0117706\n",
      "sum_contract_amount                     0.0104131\n",
      "mean_accu_day_rain                      0.010185\n",
      "accu_rain                               0.00959178\n",
      "p7                                      0.00938566\n",
      "p9                                      0.00840324\n",
      "mean_hr_wsgust                          0.00686367\n",
      "mean_hr_wsmax                           0.00491579\n",
      "p1                                      0.00381037\n",
      "p3                                      0.00309839\n",
      "arrive_week                             0.00300781\n",
      "arrive_weekday                          0.00219898\n",
      "heavy_rain_count_rule2                  0.00182121\n",
      "arrive_month                            0.00178245\n",
      "r10_km                                  0.00114733\n",
      "arrive_hour                             0.000885143\n",
      "alert_level                             0.000812768\n",
      "duration_h                              0.000774662\n",
      "heavy_rain_count_rule1                  0.000773654\n",
      "wind_speed                              0.000768583\n",
      "type                                    0.000719389\n",
      "hpa                                     0.000660377\n",
      "how_rain_count_rule1                    0.000548779\n",
      "p8                                      0.000427369\n",
      "magnitude                               0.000415496\n",
      "big_how_rain_count                      0.000195234\n",
      "year                                    0.000167571\n",
      "double_kill                             0.000166921\n",
      "p10                                     4.93453e-05\n",
      "big_big_how_rain_count                  0\n"
     ]
    }
   ],
   "source": [
    "rf = RandomForestRegressor(n_estimators=100, random_state=1992, oob_score=True)\n",
    "rf.fit(tr_x,tr_y)\n",
    "headers = [\"name\", \"score\"]\n",
    "values = sorted(zip(tr_x.columns, rf.feature_importances_), key=lambda x: x[1] * -1)\n",
    "print(tabulate(values, headers, tablefmt=\"plain\"))"
   ]
  },
  {
   "cell_type": "code",
   "execution_count": 10,
   "metadata": {},
   "outputs": [
    {
     "data": {
      "text/plain": [
       "0.41293455644552024"
      ]
     },
     "execution_count": 10,
     "metadata": {},
     "output_type": "execute_result"
    }
   ],
   "source": [
    "rf.oob_score_"
   ]
  },
  {
   "cell_type": "code",
   "execution_count": 11,
   "metadata": {},
   "outputs": [
    {
     "name": "stdout",
     "output_type": "stream",
     "text": [
      "7851\n",
      "7851\n"
     ]
    }
   ],
   "source": [
    "Nes = rf.predict(te_N)\n",
    "Meg = rf.predict(te_M)\n",
    "test = pd.read_csv(data_path+ 'submit.csv')\n",
    "test.NesatAndHaitang = Nes\n",
    "test.Megi = Meg\n",
    "test.to_csv(data_path+ 'sub4.csv',index=False)\n",
    "print len(Nes)\n",
    "print len(Meg)"
   ]
  },
  {
   "cell_type": "code",
   "execution_count": 12,
   "metadata": {},
   "outputs": [
    {
     "data": {
      "text/html": [
       "<div>\n",
       "<style>\n",
       "    .dataframe thead tr:only-child th {\n",
       "        text-align: right;\n",
       "    }\n",
       "\n",
       "    .dataframe thead th {\n",
       "        text-align: left;\n",
       "    }\n",
       "\n",
       "    .dataframe tbody tr th {\n",
       "        vertical-align: top;\n",
       "    }\n",
       "</style>\n",
       "<table border=\"1\" class=\"dataframe\">\n",
       "  <thead>\n",
       "    <tr style=\"text-align: right;\">\n",
       "      <th></th>\n",
       "      <th>NesatAndHaitang</th>\n",
       "      <th>Megi</th>\n",
       "    </tr>\n",
       "  </thead>\n",
       "  <tbody>\n",
       "    <tr>\n",
       "      <th>count</th>\n",
       "      <td>7851.000000</td>\n",
       "      <td>7851.000000</td>\n",
       "    </tr>\n",
       "    <tr>\n",
       "      <th>mean</th>\n",
       "      <td>133.917838</td>\n",
       "      <td>644.442238</td>\n",
       "    </tr>\n",
       "    <tr>\n",
       "      <th>std</th>\n",
       "      <td>239.276394</td>\n",
       "      <td>667.136089</td>\n",
       "    </tr>\n",
       "    <tr>\n",
       "      <th>min</th>\n",
       "      <td>0.000000</td>\n",
       "      <td>0.210000</td>\n",
       "    </tr>\n",
       "    <tr>\n",
       "      <th>25%</th>\n",
       "      <td>21.460000</td>\n",
       "      <td>194.045000</td>\n",
       "    </tr>\n",
       "    <tr>\n",
       "      <th>50%</th>\n",
       "      <td>66.270000</td>\n",
       "      <td>447.690000</td>\n",
       "    </tr>\n",
       "    <tr>\n",
       "      <th>75%</th>\n",
       "      <td>136.420000</td>\n",
       "      <td>855.935000</td>\n",
       "    </tr>\n",
       "    <tr>\n",
       "      <th>max</th>\n",
       "      <td>4261.630000</td>\n",
       "      <td>9023.740000</td>\n",
       "    </tr>\n",
       "  </tbody>\n",
       "</table>\n",
       "</div>"
      ],
      "text/plain": [
       "       NesatAndHaitang         Megi\n",
       "count      7851.000000  7851.000000\n",
       "mean        133.917838   644.442238\n",
       "std         239.276394   667.136089\n",
       "min           0.000000     0.210000\n",
       "25%          21.460000   194.045000\n",
       "50%          66.270000   447.690000\n",
       "75%         136.420000   855.935000\n",
       "max        4261.630000  9023.740000"
      ]
     },
     "execution_count": 12,
     "metadata": {},
     "output_type": "execute_result"
    }
   ],
   "source": [
    "test.describe()"
   ]
  }
 ],
 "metadata": {
  "kernelspec": {
   "display_name": "Python 2",
   "language": "python",
   "name": "python2"
  },
  "language_info": {
   "codemirror_mode": {
    "name": "ipython",
    "version": 2
   },
   "file_extension": ".py",
   "mimetype": "text/x-python",
   "name": "python",
   "nbconvert_exporter": "python",
   "pygments_lexer": "ipython2",
   "version": "2.7.13"
  }
 },
 "nbformat": 4,
 "nbformat_minor": 2
}
