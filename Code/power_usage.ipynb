{
 "cells": [
  {
   "cell_type": "code",
   "execution_count": 1,
   "metadata": {},
   "outputs": [],
   "source": [
    "import numpy as np\n",
    "import pandas as pd\n",
    "import os\n",
    "import glob"
   ]
  },
  {
   "cell_type": "code",
   "execution_count": 2,
   "metadata": {},
   "outputs": [],
   "source": [
    "path = 'D:/Users/Qoo/Desktop/taipower/data/'"
   ]
  },
  {
   "cell_type": "code",
   "execution_count": 3,
   "metadata": {},
   "outputs": [],
   "source": [
    "# Taiwan power usage structure\n",
    "# data source:https://data.gov.tw/dataset/38959\n",
    "df = pd.read_csv(path+ 'df.csv')\n",
    "deparment_power_usage = pd.read_csv(path + 'deparment_power_usage.csv')\n",
    "df2 = pd.merge(df,deparment_power_usage,how='left',on='COUNTYNAME')"
   ]
  },
  {
   "cell_type": "code",
   "execution_count": 4,
   "metadata": {},
   "outputs": [],
   "source": [
    "# typhoon \n",
    "# dara source: http://rdc28.cwb.gov.tw/TDB/ntdb/pageControl/ty_warning\n",
    "typhoon = pd.read_csv(path + 'typhoon_alert.csv',encoding='big5')\n",
    "\n",
    "# data manipulation \n",
    "i = iter(list(typhoon.duration))\n",
    "duration = zip(i,i)\n",
    "typhoon_time = pd.DataFrame(duration, columns=['arrive','leave'])\n",
    "cols = list(typhoon)\n",
    "cols.remove('duration')\n",
    "tp = typhoon.loc[0:len(typhoon):2,cols]\n",
    "tp = tp.reset_index(drop=True)\n",
    "tp2 = pd.concat([tp,typhoon_time],axis=1,join_axes=[tp.index])\n",
    "\n",
    "#typhoon alert time period\n",
    "tp2.arrive = pd.to_datetime(tp2.arrive)\n",
    "tp2.leave = pd.to_datetime(tp2.leave)\n",
    "tp2.year = tp2.arrive.dt.year\n",
    "mask = (tp2.year >=2014) & (tp2.year<=2017)\n",
    "tp3 = tp2[mask]"
   ]
  },
  {
   "cell_type": "code",
   "execution_count": 5,
   "metadata": {},
   "outputs": [
    {
     "name": "stderr",
     "output_type": "stream",
     "text": [
      "c:\\python27\\lib\\site-packages\\ipykernel_launcher.py:4: ParserWarning: Falling back to the 'python' engine because the 'c' engine does not support skipfooter; you can avoid this warning by specifying engine='python'.\n",
      "  after removing the cwd from sys.path.\n",
      "c:\\python27\\lib\\site-packages\\ipykernel_launcher.py:5: ParserWarning: Falling back to the 'python' engine because the 'c' engine does not support skipfooter; you can avoid this warning by specifying engine='python'.\n",
      "  \"\"\"\n",
      "c:\\python27\\lib\\site-packages\\ipykernel_launcher.py:6: ParserWarning: Falling back to the 'python' engine because the 'c' engine does not support skipfooter; you can avoid this warning by specifying engine='python'.\n",
      "  \n",
      "c:\\python27\\lib\\site-packages\\ipykernel_launcher.py:8: ParserWarning: Falling back to the 'python' engine because the 'c' engine does not support skipfooter; you can avoid this warning by specifying engine='python'.\n",
      "  \n",
      "c:\\python27\\lib\\site-packages\\ipykernel_launcher.py:9: ParserWarning: Falling back to the 'python' engine because the 'c' engine does not support skipfooter; you can avoid this warning by specifying engine='python'.\n",
      "  if __name__ == '__main__':\n",
      "c:\\python27\\lib\\site-packages\\ipykernel_launcher.py:10: ParserWarning: Falling back to the 'python' engine because the 'c' engine does not support skipfooter; you can avoid this warning by specifying engine='python'.\n",
      "  # Remove the CWD from sys.path while we load stuff.\n",
      "c:\\python27\\lib\\site-packages\\ipykernel_launcher.py:12: ParserWarning: Falling back to the 'python' engine because the 'c' engine does not support skipfooter; you can avoid this warning by specifying engine='python'.\n",
      "  if sys.path[0] == '':\n",
      "c:\\python27\\lib\\site-packages\\ipykernel_launcher.py:13: ParserWarning: Falling back to the 'python' engine because the 'c' engine does not support skipfooter; you can avoid this warning by specifying engine='python'.\n",
      "  del sys.path[0]\n",
      "c:\\python27\\lib\\site-packages\\ipykernel_launcher.py:15: ParserWarning: Falling back to the 'python' engine because the 'c' engine does not support skipfooter; you can avoid this warning by specifying engine='python'.\n",
      "  from ipykernel import kernelapp as app\n"
     ]
    }
   ],
   "source": [
    "# import power usage data\n",
    "# note: There is no data for 2014, so I use 2015 instead\n",
    "all_files = glob.glob(os.path.join(path+'vil_power/','*.csv'))\n",
    "p_201406 = pd.read_csv(all_files[0],encoding='big5',skipfooter=1,usecols=[0,1,2,3,4,5])\n",
    "p_201407 = pd.read_csv(all_files[1],encoding='big5',skipfooter=1,usecols=[0,1,2,3,4,5])\n",
    "p_201409 = pd.read_csv(all_files[3],encoding='big5',skipfooter=1,usecols=[0,1,2,3,4,5])\n",
    "\n",
    "p_201507 = pd.read_csv(all_files[1],encoding='big5',skipfooter=1,usecols=[0,1,2,3,4,5])\n",
    "p_201508 = pd.read_csv(all_files[2],encoding='big5',skipfooter=1,usecols=[0,1,2,3,4,5])\n",
    "p_201509 = pd.read_csv(all_files[3],encoding='big5',skipfooter=1,usecols=[0,1,2,3,4,5])\n",
    "\n",
    "p_201607 = pd.read_csv(all_files[4],encoding='big5',skipfooter=1,usecols=[0,1,2,3,4,5])\n",
    "p_201609 = pd.read_csv(all_files[5],encoding='big5',skipfooter=1,usecols=[0,1,2,3,4,5])\n",
    "\n",
    "p_201707 = pd.read_csv(all_files[6],encoding='big5',skipfooter=1,usecols=[0,1,2,3,4,5])\n",
    "\n",
    "# assign year and month\n",
    "p_201406['year'] = 2014\n",
    "p_201406['month'] = 6\n",
    "\n",
    "p_201407['year'] = 2014\n",
    "p_201407['month'] = 7\n",
    "\n",
    "p_201409['year'] = 2014\n",
    "p_201409['month'] = 9\n",
    "\n",
    "p_201507['year'] = 2015\n",
    "p_201507['month'] = 7\n",
    "\n",
    "p_201508['year'] = 2015\n",
    "p_201508['month'] = 8\n",
    "\n",
    "p_201509['year'] = 2015\n",
    "p_201509['month'] = 9\n",
    "\n",
    "p_201607['year'] = 2016\n",
    "p_201607['month'] = 7\n",
    "\n",
    "p_201609['year'] = 2016\n",
    "p_201609['month'] = 9\n",
    "\n",
    "p_201707['year'] = 2017\n",
    "p_201707['month'] = 7"
   ]
  },
  {
   "cell_type": "code",
   "execution_count": 6,
   "metadata": {},
   "outputs": [],
   "source": [
    "p = pd.concat([p_201406,p_201407,p_201409,p_201507,p_201508,p_201509,p_201607,p_201609,p_201707],axis=0)"
   ]
  },
  {
   "cell_type": "code",
   "execution_count": 7,
   "metadata": {},
   "outputs": [
    {
     "name": "stderr",
     "output_type": "stream",
     "text": [
      "c:\\python27\\lib\\site-packages\\pandas\\core\\frame.py:2746: SettingWithCopyWarning: \n",
      "A value is trying to be set on a copy of a slice from a DataFrame\n",
      "\n",
      "See the caveats in the documentation: http://pandas.pydata.org/pandas-docs/stable/indexing.html#indexing-view-versus-copy\n",
      "  **kwargs)\n"
     ]
    }
   ],
   "source": [
    "#data cleaning \n",
    "p[u'用電種類'] = p[u'用電種類'].str.replace(u'　',u'')\n",
    "p2 = p.loc[(p[u'用電種類']== u'1表燈非營業用')|(p[u'用電種類']== u'2表燈營業用'),:]\n",
    "\n",
    "# rename cols\n",
    "p2.rename(columns={u'郵遞區號':'z_code',u'行政區':'TownName',u'用電種類':'usage_type',u'用戶數':'household_amount',\n",
    "          u'契約容量':'contract_amount',u'售電度數(當月)':'monthly_power_sales_amount','year':'p_year','month':'p_month'},inplace=True)\n",
    "# drop unused cols\n",
    "p2 = p2.iloc[:,[0,2,3,4,5,6,7]]"
   ]
  },
  {
   "cell_type": "code",
   "execution_count": 8,
   "metadata": {},
   "outputs": [],
   "source": [
    "# import Taiwan Town zcode\n",
    "zcode = pd.read_csv(path+'taiwan_zcode.csv',encoding='big5')"
   ]
  },
  {
   "cell_type": "code",
   "execution_count": 9,
   "metadata": {},
   "outputs": [],
   "source": [
    "p3 = pd.merge(p2, zcode, how='left', on='z_code')\n",
    "p3.CityName = p3.CityName.str.encode('utf-8')\n",
    "p3.TownName = p3.TownName.str.encode('utf-8')\n",
    "# impute missing value\n",
    "p3.loc[p3.TownName=='烏坵鄉','household_amount'] = 0"
   ]
  },
  {
   "cell_type": "code",
   "execution_count": 10,
   "metadata": {},
   "outputs": [],
   "source": [
    "# clean data\n",
    "p3 = p3.loc[(p3.household_amount != '*'),:]\n",
    "p3 = p3.loc[(p3.household_amount != '**'),:]\n",
    "p3 = p3.loc[(p3.household_amount != u'＊'),:]\n",
    "#p3 = p3.loc[(p3.monthly_power_sales_amount != '*'),:]\n",
    "#p3 = p3.loc[(p3.monthly_power_sales_amount != '**'),:]\n",
    "#p3 = p3.loc[(p3.monthly_power_sales_amount != u'＊'),:]\n",
    "\n",
    "p3.contract_amount = p3.contract_amount.astype(float)\n",
    "p3.monthly_power_sales_amount = p3.monthly_power_sales_amount.astype(float)\n",
    "p3.household_amount = p3.household_amount.astype(float)"
   ]
  },
  {
   "cell_type": "code",
   "execution_count": 11,
   "metadata": {},
   "outputs": [],
   "source": [
    "p3 = p3.pivot_table(index=['CityName','TownName','p_year','p_month','z_code'],columns='usage_type',values=['household_amount','contract_amount','monthly_power_sales_amount']).reset_index()\n",
    "p3.to_csv(path+'p3.csv',encoding='utf-8')\n",
    "p3 = pd.read_csv(path+'p3.csv')\n",
    "\n",
    "p3.p_year = p3.p_year.astype(float)\n",
    "df3 = pd.merge(df2, p3, how='left', left_on=['CityName','TownName','year','arrive_month'],\n",
    "              right_on=['CityName','TownName','p_year','p_month'] )\n",
    "df3.rename(columns={'contract_amount':'non_profit_contract_amount','contract_amount.1':'profit_contract_amount',\n",
    "                   'monthly_power_sales_amount':'non_profit_monthly_power_sales_amount','monthly_power_sales_amount.1':'profit_monthly_power_sales_amount',\n",
    "                   'household_amount':'non_profit_household_amount','household_amount.1':'profit_household_amount'},inplace=True)"
   ]
  },
  {
   "cell_type": "code",
   "execution_count": 12,
   "metadata": {},
   "outputs": [],
   "source": [
    "df3.non_profit_household_amount = df3.non_profit_household_amount.astype(float)\n",
    "df3.profit_household_amount = df3.profit_household_amount.astype(float)\n",
    "\n",
    "df3.non_profit_contract_amount = df3.non_profit_contract_amount.astype(float)\n",
    "df3.profit_contract_amount = df3.profit_contract_amount.astype(float)\n",
    "\n",
    "df3.non_profit_monthly_power_sales_amount = df3.non_profit_monthly_power_sales_amount.astype(float)\n",
    "df3.profit_monthly_power_sales_amount = df3.profit_monthly_power_sales_amount.astype(float)"
   ]
  },
  {
   "cell_type": "code",
   "execution_count": 13,
   "metadata": {},
   "outputs": [],
   "source": [
    "df3['sum_contract_amount'] = df3[['non_profit_contract_amount','profit_contract_amount']].apply(sum,axis=1)\n",
    "df3['sum_household_amount'] = df3[['non_profit_household_amount','profit_household_amount']].apply(sum,axis=1)\n",
    "df3['sum_monthly_power_sales_amount'] = df3[['non_profit_monthly_power_sales_amount','profit_monthly_power_sales_amount']].apply(sum,axis=1)"
   ]
  },
  {
   "cell_type": "code",
   "execution_count": 14,
   "metadata": {},
   "outputs": [],
   "source": [
    "df3.to_csv(path+'df.csv',encoding='utf-8', index=False)"
   ]
  }
 ],
 "metadata": {
  "kernelspec": {
   "display_name": "Python 2",
   "language": "python",
   "name": "python2"
  },
  "language_info": {
   "codemirror_mode": {
    "name": "ipython",
    "version": 2
   },
   "file_extension": ".py",
   "mimetype": "text/x-python",
   "name": "python",
   "nbconvert_exporter": "python",
   "pygments_lexer": "ipython2",
   "version": "2.7.14"
  }
 },
 "nbformat": 4,
 "nbformat_minor": 2
}
