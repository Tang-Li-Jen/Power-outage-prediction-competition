{
 "cells": [
  {
   "cell_type": "code",
   "execution_count": 1,
   "metadata": {},
   "outputs": [],
   "source": [
    "import pandas as pd\n",
    "import numpy as np"
   ]
  },
  {
   "cell_type": "code",
   "execution_count": 7,
   "metadata": {},
   "outputs": [],
   "source": [
    "file = open('D:\\\\Users\\\\Qoo\\\\Desktop\\\\path_raw.txt', 'r')\n",
    "d = file.read() # 把所有資料讀進來\n",
    "#file.close() # 關閉檔案"
   ]
  },
  {
   "cell_type": "code",
   "execution_count": 10,
   "metadata": {},
   "outputs": [
    {
     "name": "stdout",
     "output_type": "stream",
     "text": [
      "<type 'list'>\n"
     ]
    }
   ],
   "source": [
    "from ast import literal_eval\n",
    "d = literal_eval(d)\n",
    "print type(d)"
   ]
  },
  {
   "cell_type": "code",
   "execution_count": 12,
   "metadata": {},
   "outputs": [
    {
     "data": {
      "text/plain": [
       "96"
      ]
     },
     "execution_count": 12,
     "metadata": {},
     "output_type": "execute_result"
    }
   ],
   "source": [
    "print len(d)"
   ]
  },
  {
   "cell_type": "code",
   "execution_count": 17,
   "metadata": {},
   "outputs": [],
   "source": [
    "path = pd.concat(pd.DataFrame(d[i]) for i in range(0,len(d)))"
   ]
  },
  {
   "cell_type": "code",
   "execution_count": 36,
   "metadata": {},
   "outputs": [],
   "source": [
    "path = path.reset_index(drop=True)"
   ]
  },
  {
   "cell_type": "code",
   "execution_count": 51,
   "metadata": {},
   "outputs": [],
   "source": [
    "path_raw = pd.DataFrame(path['path'][i] for i in range(0, len(path)))"
   ]
  },
  {
   "cell_type": "code",
   "execution_count": 56,
   "metadata": {},
   "outputs": [],
   "source": [
    "path = pd.concat([path, path_raw], axis=1)"
   ]
  },
  {
   "cell_type": "code",
   "execution_count": 59,
   "metadata": {},
   "outputs": [],
   "source": [
    "path = path.iloc[:,[1,4,5,6,7]]"
   ]
  },
  {
   "cell_type": "code",
   "execution_count": 61,
   "metadata": {},
   "outputs": [],
   "source": [
    "tp = ['NESAT','HAITANG','MEGI','MERANTI','MALAKAS','NEPARTAK','SOUDELOR',\n",
    "'CHAN-HOM','DUJUAN','MATMO','FUNG-WONG','HAGIBIS']"
   ]
  },
  {
   "cell_type": "code",
   "execution_count": 63,
   "metadata": {},
   "outputs": [],
   "source": [
    "path = path.loc[path.eName.isin(tp),:]"
   ]
  },
  {
   "cell_type": "code",
   "execution_count": 71,
   "metadata": {},
   "outputs": [
    {
     "data": {
      "text/plain": [
       "CHAN-HOM     313\n",
       "SOUDELOR     289\n",
       "DUJUAN       241\n",
       "MATMO        211\n",
       "MALAKAS      205\n",
       "NEPARTAK     199\n",
       "MEGI         181\n",
       "FUNG-WONG    175\n",
       "MERANTI      169\n",
       "NESAT        127\n",
       "HAGIBIS      115\n",
       "Name: eName, dtype: int64"
      ]
     },
     "execution_count": 71,
     "metadata": {},
     "output_type": "execute_result"
    }
   ],
   "source": [
    "path.eName.value_counts()"
   ]
  },
  {
   "cell_type": "code",
   "execution_count": 75,
   "metadata": {},
   "outputs": [
    {
     "name": "stderr",
     "output_type": "stream",
     "text": [
      "c:\\python27\\lib\\site-packages\\ipykernel_launcher.py:1: SettingWithCopyWarning: \n",
      "A value is trying to be set on a copy of a slice from a DataFrame.\n",
      "Try using .loc[row_indexer,col_indexer] = value instead\n",
      "\n",
      "See the caveats in the documentation: http://pandas.pydata.org/pandas-docs/stable/indexing.html#indexing-view-versus-copy\n",
      "  \"\"\"Entry point for launching an IPython kernel.\n",
      "c:\\python27\\lib\\site-packages\\ipykernel_launcher.py:2: SettingWithCopyWarning: \n",
      "A value is trying to be set on a copy of a slice from a DataFrame\n",
      "\n",
      "See the caveats in the documentation: http://pandas.pydata.org/pandas-docs/stable/indexing.html#indexing-view-versus-copy\n",
      "  \n",
      "c:\\python27\\lib\\site-packages\\ipykernel_launcher.py:3: SettingWithCopyWarning: \n",
      "A value is trying to be set on a copy of a slice from a DataFrame\n",
      "\n",
      "See the caveats in the documentation: http://pandas.pydata.org/pandas-docs/stable/indexing.html#indexing-view-versus-copy\n",
      "  This is separate from the ipykernel package so we can avoid doing imports until\n",
      "c:\\python27\\lib\\site-packages\\ipykernel_launcher.py:4: SettingWithCopyWarning: \n",
      "A value is trying to be set on a copy of a slice from a DataFrame\n",
      "\n",
      "See the caveats in the documentation: http://pandas.pydata.org/pandas-docs/stable/indexing.html#indexing-view-versus-copy\n",
      "  after removing the cwd from sys.path.\n"
     ]
    }
   ],
   "source": [
    "path['typhoon'] = path['eName']\n",
    "path.loc[path.eName =='NESAT','typhoon'] = 'NESATANDHAITANG'\n",
    "path.loc[path.eName =='MERANTI','typhoon'] = 'MERANTIANDMALAKAS'\n",
    "path.loc[path.eName =='MALAKAS','typhoon'] = 'MERANTIANDMALAKAS'"
   ]
  },
  {
   "cell_type": "code",
   "execution_count": 77,
   "metadata": {},
   "outputs": [
    {
     "data": {
      "text/plain": [
       "MERANTIANDMALAKAS    374\n",
       "CHAN-HOM             313\n",
       "SOUDELOR             289\n",
       "DUJUAN               241\n",
       "MATMO                211\n",
       "NEPARTAK             199\n",
       "MEGI                 181\n",
       "FUNG-WONG            175\n",
       "NESATANDHAITANG      127\n",
       "HAGIBIS              115\n",
       "Name: typhoon, dtype: int64"
      ]
     },
     "execution_count": 77,
     "metadata": {},
     "output_type": "execute_result"
    }
   ],
   "source": [
    "path.typhoon.value_counts()"
   ]
  },
  {
   "cell_type": "code",
   "execution_count": 80,
   "metadata": {},
   "outputs": [],
   "source": [
    "path = path.iloc[:,[6,1,2,3,4]]"
   ]
  },
  {
   "cell_type": "code",
   "execution_count": 82,
   "metadata": {},
   "outputs": [],
   "source": [
    "path.to_csv('D:\\\\Users\\\\Qoo\\\\Desktop\\\\path_df.csv',index=False)"
   ]
  },
  {
   "cell_type": "code",
   "execution_count": 83,
   "metadata": {},
   "outputs": [
    {
     "data": {
      "text/html": [
       "<div>\n",
       "<style>\n",
       "    .dataframe thead tr:only-child th {\n",
       "        text-align: right;\n",
       "    }\n",
       "\n",
       "    .dataframe thead th {\n",
       "        text-align: left;\n",
       "    }\n",
       "\n",
       "    .dataframe tbody tr th {\n",
       "        vertical-align: top;\n",
       "    }\n",
       "</style>\n",
       "<table border=\"1\" class=\"dataframe\">\n",
       "  <thead>\n",
       "    <tr style=\"text-align: right;\">\n",
       "      <th></th>\n",
       "      <th>typhoon</th>\n",
       "      <th>datetime</th>\n",
       "      <th>intensity</th>\n",
       "      <th>lat</th>\n",
       "      <th>lon</th>\n",
       "    </tr>\n",
       "  </thead>\n",
       "  <tbody>\n",
       "    <tr>\n",
       "      <th>804</th>\n",
       "      <td>HAGIBIS</td>\n",
       "      <td>2014-06-13 00:00:00</td>\n",
       "      <td>15</td>\n",
       "      <td>20</td>\n",
       "      <td>117</td>\n",
       "    </tr>\n",
       "    <tr>\n",
       "      <th>805</th>\n",
       "      <td>HAGIBIS</td>\n",
       "      <td>2014-06-13 01:00:00</td>\n",
       "      <td>15</td>\n",
       "      <td>20</td>\n",
       "      <td>116.92</td>\n",
       "    </tr>\n",
       "    <tr>\n",
       "      <th>806</th>\n",
       "      <td>HAGIBIS</td>\n",
       "      <td>2014-06-13 02:00:00</td>\n",
       "      <td>15</td>\n",
       "      <td>20</td>\n",
       "      <td>116.83</td>\n",
       "    </tr>\n",
       "    <tr>\n",
       "      <th>807</th>\n",
       "      <td>HAGIBIS</td>\n",
       "      <td>2014-06-13 03:00:00</td>\n",
       "      <td>15</td>\n",
       "      <td>20</td>\n",
       "      <td>116.75</td>\n",
       "    </tr>\n",
       "    <tr>\n",
       "      <th>808</th>\n",
       "      <td>HAGIBIS</td>\n",
       "      <td>2014-06-13 04:00:00</td>\n",
       "      <td>15</td>\n",
       "      <td>20</td>\n",
       "      <td>116.67</td>\n",
       "    </tr>\n",
       "  </tbody>\n",
       "</table>\n",
       "</div>"
      ],
      "text/plain": [
       "     typhoon             datetime intensity lat     lon\n",
       "804  HAGIBIS  2014-06-13 00:00:00        15  20     117\n",
       "805  HAGIBIS  2014-06-13 01:00:00        15  20  116.92\n",
       "806  HAGIBIS  2014-06-13 02:00:00        15  20  116.83\n",
       "807  HAGIBIS  2014-06-13 03:00:00        15  20  116.75\n",
       "808  HAGIBIS  2014-06-13 04:00:00        15  20  116.67"
      ]
     },
     "execution_count": 83,
     "metadata": {},
     "output_type": "execute_result"
    }
   ],
   "source": [
    "path.head()"
   ]
  }
 ],
 "metadata": {
  "kernelspec": {
   "display_name": "Python 2",
   "language": "python",
   "name": "python2"
  },
  "language_info": {
   "codemirror_mode": {
    "name": "ipython",
    "version": 2
   },
   "file_extension": ".py",
   "mimetype": "text/x-python",
   "name": "python",
   "nbconvert_exporter": "python",
   "pygments_lexer": "ipython2",
   "version": "2.7.14"
  }
 },
 "nbformat": 4,
 "nbformat_minor": 2
}
