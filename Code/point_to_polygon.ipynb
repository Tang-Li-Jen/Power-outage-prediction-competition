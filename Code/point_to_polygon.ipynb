{
 "cells": [
  {
   "cell_type": "code",
   "execution_count": 2,
   "metadata": {
    "collapsed": true
   },
   "outputs": [],
   "source": [
    "import numpy as np\n",
    "import pandas as pd\n",
    "import os\n",
    "import glob\n",
    "from shapely.geometry import Point, shape, mapping\n",
    "import fiona\n",
    "import rtree\n",
    "import math\n",
    "import json\n",
    "import geopandas as gp\n",
    "from geopandas.tools import sjoin\n",
    "import matplotlib.pyplot as plt"
   ]
  },
  {
   "cell_type": "code",
   "execution_count": 3,
   "metadata": {
    "collapsed": true
   },
   "outputs": [],
   "source": [
    "path = '/Users/charlie/Desktop/Taipower/data/'"
   ]
  },
  {
   "cell_type": "code",
   "execution_count": 14,
   "metadata": {
    "collapsed": true
   },
   "outputs": [],
   "source": [
    "# filter out the lighting data which happen between 2014 and 2017\n",
    "# below I take 2017 as example\n",
    "all_files = glob.glob(os.path.join(path+'lighting/','*.txt'))\n",
    "lighting_2017 = pd.read_csv(all_files[42],encoding='big5')\n",
    "lighting_2017 = lighting_2017.rename(columns = {u'日期時間':'lt_date',u'奈秒':'nano_secs',u'經度':'lat',u'緯度':'lon',\n",
    "                   u'電流強度(kA)':'lt_kA',u'雷擊型態':'lt_type'})\n",
    "lighting_2017.lt_date = pd.to_datetime(lighting_2017.lt_date)\n",
    "\n",
    "# filter lighting within typhoon alert period\n",
    "# below I take NESATANDHAITANG in 2017 as example\n",
    "lighting_2017 = lighting_2017.loc[(lighting_2017.lt_date > pd.to_datetime('2017-07-28 08:30:00'))&(lighting_2017.lt_date < pd.to_datetime('2017-07-31 08:30:00')),:]\n",
    "lighting_2017 = lighting_2017.reset_index(drop=True)\n",
    "lighting_2017['lt_latlon'] = lighting_2017[['lat','lon']].apply(tuple,axis=1)"
   ]
  },
  {
   "cell_type": "code",
   "execution_count": 67,
   "metadata": {
    "collapsed": true
   },
   "outputs": [],
   "source": [
    "# import the finished lighting data by year\n",
    "lighting_2014 = pd.read_csv(path+'lighting_2014.csv',encoding='big5')"
   ]
  },
  {
   "cell_type": "code",
   "execution_count": 70,
   "metadata": {
    "collapsed": true
   },
   "outputs": [],
   "source": [
    "# transform it into geo form\n",
    "geometry = [Point(xy) for xy in zip(lighting_2014[u'緯度'], lighting_2014[u'經度'])]\n",
    "crs = {'init' :'epsg:4326','proj':'longlat'}\n",
    "lt_2014 = gp.GeoDataFrame(lighting_2014, crs=crs, geometry=geometry)"
   ]
  },
  {
   "cell_type": "code",
   "execution_count": 4,
   "metadata": {},
   "outputs": [
    {
     "name": "stdout",
     "output_type": "stream",
     "text": [
      "the number of polygons:7852\n"
     ]
    }
   ],
   "source": [
    "# import polygon data for mapping\n",
    "def read_shapefile(shp_path):\n",
    "\t\"\"\"\n",
    "\tRead a shapefile into a Pandas dataframe with a 'coords' column holding\n",
    "\tthe geometry information. This uses the pyshp package\n",
    "\t\"\"\"\n",
    "\timport shapefile\n",
    "\n",
    "\t#read file, parse out the records and shapes\n",
    "\tsf = shapefile.Reader(shp_path)\n",
    "\tfields = [x[0] for x in sf.fields][1:]\n",
    "\trecords = sf.records()\n",
    "\tshps = [s.points for s in sf.shapes()]\n",
    "\n",
    "\t#write into a dataframe\n",
    "\tdf = pd.DataFrame(columns=fields, data=records)\n",
    "\tdf = df.assign(coords=shps)\n",
    "\n",
    "\treturn df\n",
    "\n",
    "vil_latlon = read_shapefile(path + \"village_latlon/VILLAGE_MOI_1060831.shp\")\n",
    "vil_latlon.loc[0,['VILLCODE','VILLNAME']] = ['10013030023','大鵬里']\n",
    "vil_latlon = vil_latlon.loc[vil_latlon.VILLNAME !='',:]\n",
    "print 'the number of polygons:{}'.format(len(vil_latlon))\n",
    "\n",
    "FRC1  = gp.read_file('/Users/charlie/Desktop/Taipower/data/VILLAGE_MOI_1060831.shp')\n",
    "key = list(set(vil_latlon.index))\n",
    "FRC1 = FRC1.loc[FRC1.index.isin(key),:]"
   ]
  },
  {
   "cell_type": "code",
   "execution_count": 11,
   "metadata": {},
   "outputs": [
    {
     "data": {
      "image/png": "[encoded data removed]",
      "text/plain": [
       "<matplotlib.figure.Figure at 0x1197f08d0>"
      ]
     },
     "execution_count": 11,
     "metadata": {},
     "output_type": "execute_result"
    }
   ],
   "source": [
    "ax = FRC1.plot()\n",
    "ax.figure"
   ]
  },
  {
   "cell_type": "code",
   "execution_count": 71,
   "metadata": {},
   "outputs": [
    {
     "name": "stdout",
     "output_type": "stream",
     "text": [
      "Warning: CRS does not match!\n"
     ]
    }
   ],
   "source": [
    "pointInPolys = sjoin(lt_2014, FRC1, how='left',op=\"within\")\n",
    "lighting_2014v2 = pointInPolys.dropna()\n",
    "print 'the number of lighting within polygon:{}'.format(len(lighting_2014v2))\n",
    "#lighting_2014v2.to_csv(path +'lighting_2014v2.csv',encoding='big5')"
   ]
  },
  {
   "cell_type": "code",
   "execution_count": 85,
   "metadata": {},
   "outputs": [
    {
     "name": "stdout",
     "output_type": "stream",
     "text": [
      "7852\n"
     ]
    }
   ],
   "source": [
    "vil_latlon['index_right'] = vil_latlon.index\n",
    "vil_latlon = vil_latlon.reset_index(drop=True)\n",
    "vil_latlon.VILLCODE = vil_latlon.VILLCODE.astype(str)"
   ]
  },
  {
   "cell_type": "code",
   "execution_count": 86,
   "metadata": {},
   "outputs": [
    {
     "data": {
      "text/html": [
       "<div>\n",
       "<style>\n",
       "    .dataframe thead tr:only-child th {\n",
       "        text-align: right;\n",
       "    }\n",
       "\n",
       "    .dataframe thead th {\n",
       "        text-align: left;\n",
       "    }\n",
       "\n",
       "    .dataframe tbody tr th {\n",
       "        vertical-align: top;\n",
       "    }\n",
       "</style>\n",
       "<table border=\"1\" class=\"dataframe\">\n",
       "  <thead>\n",
       "    <tr style=\"text-align: right;\">\n",
       "      <th></th>\n",
       "      <th>VILLCODE</th>\n",
       "      <th>COUNTYNAME</th>\n",
       "      <th>TOWNNAME</th>\n",
       "      <th>VILLNAME</th>\n",
       "      <th>VILLENG</th>\n",
       "      <th>COUNTYID</th>\n",
       "      <th>COUNTYCODE</th>\n",
       "      <th>TOWNID</th>\n",
       "      <th>TOWNCODE</th>\n",
       "      <th>NOTE</th>\n",
       "      <th>coords</th>\n",
       "      <th>index_right</th>\n",
       "      <th>VilCode</th>\n",
       "    </tr>\n",
       "  </thead>\n",
       "  <tbody>\n",
       "    <tr>\n",
       "      <th>0</th>\n",
       "      <td>10013030023</td>\n",
       "      <td>屏東縣</td>\n",
       "      <td>東港鎮</td>\n",
       "      <td>大鵬里</td>\n",
       "      <td></td>\n",
       "      <td>T</td>\n",
       "      <td>10013</td>\n",
       "      <td>T03</td>\n",
       "      <td>10013030</td>\n",
       "      <td>未編定村里</td>\n",
       "      <td>[(120.48059195, 22.426862149), (120.476405146,...</td>\n",
       "      <td>0</td>\n",
       "      <td>1001303-023</td>\n",
       "    </tr>\n",
       "    <tr>\n",
       "      <th>1</th>\n",
       "      <td>64000130006</td>\n",
       "      <td>高雄市</td>\n",
       "      <td>林園區</td>\n",
       "      <td>中門里</td>\n",
       "      <td>Zhongmen Vil.</td>\n",
       "      <td>E</td>\n",
       "      <td>64000</td>\n",
       "      <td>E13</td>\n",
       "      <td>64000130</td>\n",
       "      <td></td>\n",
       "      <td>[(120.367720689, 22.495644521), (120.364268696...</td>\n",
       "      <td>1</td>\n",
       "      <td>6401300-006</td>\n",
       "    </tr>\n",
       "    <tr>\n",
       "      <th>2</th>\n",
       "      <td>10018010054</td>\n",
       "      <td>新竹市</td>\n",
       "      <td>東區</td>\n",
       "      <td>關新里</td>\n",
       "      <td>Guanxin  Vil.</td>\n",
       "      <td>O</td>\n",
       "      <td>10018</td>\n",
       "      <td>O01</td>\n",
       "      <td>10018010</td>\n",
       "      <td></td>\n",
       "      <td>[(121.021652789, 24.785721177), (121.021643038...</td>\n",
       "      <td>2</td>\n",
       "      <td>1001801-054</td>\n",
       "    </tr>\n",
       "    <tr>\n",
       "      <th>3</th>\n",
       "      <td>10018020045</td>\n",
       "      <td>新竹市</td>\n",
       "      <td>北區</td>\n",
       "      <td>中雅里</td>\n",
       "      <td>Zhongya  Vil.</td>\n",
       "      <td>O</td>\n",
       "      <td>10018</td>\n",
       "      <td>O02</td>\n",
       "      <td>10018020</td>\n",
       "      <td></td>\n",
       "      <td>[(120.955541047, 24.804825973), (120.955692224...</td>\n",
       "      <td>3</td>\n",
       "      <td>1001802-045</td>\n",
       "    </tr>\n",
       "    <tr>\n",
       "      <th>4</th>\n",
       "      <td>64000130008</td>\n",
       "      <td>高雄市</td>\n",
       "      <td>林園區</td>\n",
       "      <td>港埔里</td>\n",
       "      <td>Gangpu Vil.</td>\n",
       "      <td>E</td>\n",
       "      <td>64000</td>\n",
       "      <td>E13</td>\n",
       "      <td>64000130</td>\n",
       "      <td></td>\n",
       "      <td>[(120.373251337, 22.491231864), (120.371470967...</td>\n",
       "      <td>4</td>\n",
       "      <td>6401300-008</td>\n",
       "    </tr>\n",
       "  </tbody>\n",
       "</table>\n",
       "</div>"
      ],
      "text/plain": [
       "      VILLCODE COUNTYNAME TOWNNAME VILLNAME        VILLENG COUNTYID  \\\n",
       "0  10013030023        屏東縣      東港鎮      大鵬里                       T   \n",
       "1  64000130006        高雄市      林園區      中門里  Zhongmen Vil.        E   \n",
       "2  10018010054        新竹市       東區      關新里  Guanxin  Vil.        O   \n",
       "3  10018020045        新竹市       北區      中雅里  Zhongya  Vil.        O   \n",
       "4  64000130008        高雄市      林園區      港埔里    Gangpu Vil.        E   \n",
       "\n",
       "  COUNTYCODE TOWNID  TOWNCODE   NOTE  \\\n",
       "0      10013    T03  10013030  未編定村里   \n",
       "1      64000    E13  64000130          \n",
       "2      10018    O01  10018010          \n",
       "3      10018    O02  10018020          \n",
       "4      64000    E13  64000130          \n",
       "\n",
       "                                              coords  index_right      VilCode  \n",
       "0  [(120.48059195, 22.426862149), (120.476405146,...            0  1001303-023  \n",
       "1  [(120.367720689, 22.495644521), (120.364268696...            1  6401300-006  \n",
       "2  [(121.021652789, 24.785721177), (121.021643038...            2  1001801-054  \n",
       "3  [(120.955541047, 24.804825973), (120.955692224...            3  1001802-045  \n",
       "4  [(120.373251337, 22.491231864), (120.371470967...            4  6401300-008  "
      ]
     },
     "execution_count": 86,
     "metadata": {},
     "output_type": "execute_result"
    }
   ],
   "source": [
    "#將訓練資料與地區對應的測站合併\n",
    "for i in range(0,len(vil_latlon)):\n",
    "    if vil_latlon.loc[i,'VILLCODE'][3:5] =='00':\n",
    "        vil_latlon.loc[i,'VilCode'] = vil_latlon.loc[i,'VILLCODE'][0:3] +  vil_latlon.loc[i,'VILLCODE'][5:7] + '00-'+  vil_latlon.loc[i,'VILLCODE'][8:11]\n",
    "    else:\n",
    "        vil_latlon.loc[i,'VilCode'] = vil_latlon.loc[i,'VILLCODE'][0:7] +  '-'+  vil_latlon.loc[i,'VILLCODE'][8:11]"
   ]
  },
  {
   "cell_type": "code",
   "execution_count": 87,
   "metadata": {},
   "outputs": [
    {
     "data": {
      "text/html": [
       "<div>\n",
       "<style>\n",
       "    .dataframe thead tr:only-child th {\n",
       "        text-align: right;\n",
       "    }\n",
       "\n",
       "    .dataframe thead th {\n",
       "        text-align: left;\n",
       "    }\n",
       "\n",
       "    .dataframe tbody tr th {\n",
       "        vertical-align: top;\n",
       "    }\n",
       "</style>\n",
       "<table border=\"1\" class=\"dataframe\">\n",
       "  <thead>\n",
       "    <tr style=\"text-align: right;\">\n",
       "      <th></th>\n",
       "      <th>COUNTYNAME</th>\n",
       "      <th>TOWNNAME</th>\n",
       "      <th>VILLNAME</th>\n",
       "      <th>index_right</th>\n",
       "      <th>VilCode</th>\n",
       "    </tr>\n",
       "  </thead>\n",
       "  <tbody>\n",
       "    <tr>\n",
       "      <th>0</th>\n",
       "      <td>屏東縣</td>\n",
       "      <td>東港鎮</td>\n",
       "      <td>大鵬里</td>\n",
       "      <td>0</td>\n",
       "      <td>1001303-023</td>\n",
       "    </tr>\n",
       "  </tbody>\n",
       "</table>\n",
       "</div>"
      ],
      "text/plain": [
       "  COUNTYNAME TOWNNAME VILLNAME  index_right      VilCode\n",
       "0        屏東縣      東港鎮      大鵬里            0  1001303-023"
      ]
     },
     "execution_count": 87,
     "metadata": {},
     "output_type": "execute_result"
    }
   ],
   "source": [
    "vil_latlon = vil_latlon.iloc[:,[1,2,3,11,12]]"
   ]
  },
  {
   "cell_type": "code",
   "execution_count": 88,
   "metadata": {
    "collapsed": true
   },
   "outputs": [],
   "source": [
    "lighting_2014v2 = pd.read_csv(path+'lighting_2014v2.csv',encoding='big5')\n",
    "lighting_2015v2 = pd.read_csv(path+'lighting_2015v2.csv',encoding='big5')\n",
    "lighting_2016v2 = pd.read_csv(path+'lighting_2016v2.csv',encoding='big5')\n",
    "lighting_2017v2 = pd.read_csv(path+'lighting_2017v2.csv',encoding='big5')"
   ]
  },
  {
   "cell_type": "code",
   "execution_count": 89,
   "metadata": {
    "collapsed": true
   },
   "outputs": [],
   "source": [
    "lighting_2014v2 = lighting_2014v2.rename(columns={u'經度':'lat',u'緯度':'lon',u'奈秒':'nano_secs',u'電流強度(kA)':'lt_kA',u'雷擊型態':'lt_type'})\n",
    "lighting_2015v2 = lighting_2015v2.rename(columns={u'經度':'lat',u'緯度':'lon',u'奈秒':'nano_secs',u'電流強度(kA)':'lt_kA',u'雷擊型態':'lt_type'})\n",
    "lighting_2016v2 = lighting_2016v2.rename(columns={u'經度':'lat',u'緯度':'lon',u'奈秒':'nano_secs',u'電流強度(kA)':'lt_kA',u'雷擊型態':'lt_type'})"
   ]
  },
  {
   "cell_type": "code",
   "execution_count": 90,
   "metadata": {
    "collapsed": true
   },
   "outputs": [],
   "source": [
    "lt1 = pd.merge(lighting_2014v2, vil_latlon, how='left', on='index_right')\n",
    "lt2 = pd.merge(lighting_2015v2, vil_latlon, how='left', on='index_right')\n",
    "lt3 = pd.merge(lighting_2016v2, vil_latlon, how='left', on='index_right')\n",
    "lt4 = pd.merge(lighting_2017v2, vil_latlon, how='left', on='index_right')\n",
    "lighting = pd.concat([lt1,lt2,lt3,lt4],axis=0)"
   ]
  },
  {
   "cell_type": "code",
   "execution_count": 94,
   "metadata": {
    "collapsed": true
   },
   "outputs": [],
   "source": [
    "lighting = lighting.iloc[:,[6,0,1,4,11,12,13,14,15]]\n",
    "#lighting.to_csv(path+'lighting.csv',encoding='utf-8')"
   ]
  },
  {
   "cell_type": "code",
   "execution_count": 97,
   "metadata": {
    "collapsed": true
   },
   "outputs": [],
   "source": [
    "lighting.lt_date = pd.to_datetime(lighting.lt_date)\n",
    "lighting['day'] = lighting.lt_date.dt.day\n",
    "lighting['hour'] = lighting.lt_date.dt.hour\n",
    "lighting.loc[lighting.lt_kA =='-','lt_kA'] = 0"
   ]
  },
  {
   "cell_type": "code",
   "execution_count": 98,
   "metadata": {
    "collapsed": true
   },
   "outputs": [],
   "source": [
    "# assign typhoon names to lightings\n",
    "#2014\n",
    "lighting.loc[(lighting.iloc[:,4] >pd.to_datetime('2014-06-14 23:30'))&(lighting.iloc[:,4] <pd.to_datetime('2014-06-15 17:30')),'typhoon'] = 'HAGIBIS'\n",
    "lighting.loc[(lighting.iloc[:,4] >pd.to_datetime('2014-09-19 08:30'))&(lighting.iloc[:,4] <pd.to_datetime('2014-09-22 08:30')),'typhoon'] = 'FUNG-WONG'\n",
    "lighting.loc[(lighting.iloc[:,4] >pd.to_datetime('2014-07-21 17:30'))&(lighting.iloc[:,4] <pd.to_datetime('2014-07-23 23:30')),'typhoon'] = 'MATMO'\n",
    "#2015\n",
    "lighting.loc[(lighting.iloc[:,4] >pd.to_datetime('2015-07-09 05:30'))&(lighting.iloc[:,4] <pd.to_datetime('2015-07-11 11:30')),'typhoon'] = 'CHAN-HOM'\n",
    "lighting.loc[(lighting.iloc[:,4] >pd.to_datetime('2015-08-06 11:30'))&(lighting.iloc[:,4] <pd.to_datetime('2015-08-09 08:30')),'typhoon'] = 'SOUDELOR'\n",
    "lighting.loc[(lighting.iloc[:,4] >pd.to_datetime('2015-09-27'))&(lighting.iloc[:,4] <pd.to_datetime('2015-09-29')),'typhoon'] = 'DUJUAN'\n",
    "#2016\n",
    "lighting.loc[(lighting.iloc[:,4] >pd.to_datetime('2016-09-25 23:30'))&(lighting.iloc[:,4] <pd.to_datetime('2016-09-28 17:30')),'typhoon'] = 'MEGI'\n",
    "lighting.loc[(lighting.iloc[:,4] >pd.to_datetime('2016-09-12 23:30'))&(lighting.iloc[:,4] <pd.to_datetime('2016-09-18 08:30')),'typhoon'] = 'MERANTIANDMALAKAS'\n",
    "lighting.loc[(lighting.iloc[:,4] >pd.to_datetime('2016-07-06 14:30'))&(lighting.iloc[:,4] <pd.to_datetime('2016-07-09 14:30')),'typhoon'] = 'NEPARTAK'\n",
    "#2017\n",
    "lighting.loc[(lighting.lt_date > pd.to_datetime('2017-07-28 08:30:00'))&(lighting.lt_date < pd.to_datetime('2017-07-31 08:30:00')),'typhoon'] = 'NESATANDHAITANG'\n"
   ]
  },
  {
   "cell_type": "code",
   "execution_count": 101,
   "metadata": {
    "collapsed": true
   },
   "outputs": [],
   "source": [
    "lighting = lighting[lighting.typhoon.notnull()]"
   ]
  },
  {
   "cell_type": "code",
   "execution_count": 108,
   "metadata": {
    "collapsed": true
   },
   "outputs": [],
   "source": [
    "lighting.lt_kA = lighting.lt_kA.astype(float)\n",
    "lighting['abs_lt_kA'] = np.abs(lighting.lt_kA)\n",
    "#lighting.to_csv(path+'lighting.csv',encoding='utf-8')"
   ]
  },
  {
   "cell_type": "code",
   "execution_count": 111,
   "metadata": {},
   "outputs": [
    {
     "data": {
      "text/html": [
       "<div>\n",
       "<style>\n",
       "    .dataframe thead tr:only-child th {\n",
       "        text-align: right;\n",
       "    }\n",
       "\n",
       "    .dataframe thead th {\n",
       "        text-align: left;\n",
       "    }\n",
       "\n",
       "    .dataframe tbody tr th {\n",
       "        vertical-align: top;\n",
       "    }\n",
       "</style>\n",
       "<table border=\"1\" class=\"dataframe\">\n",
       "  <thead>\n",
       "    <tr style=\"text-align: right;\">\n",
       "      <th></th>\n",
       "      <th>VilCode</th>\n",
       "      <th>COUNTYNAME</th>\n",
       "      <th>TOWNNAME</th>\n",
       "      <th>VILLNAME</th>\n",
       "      <th>lt_date</th>\n",
       "      <th>lt_kA</th>\n",
       "      <th>lt_latlon</th>\n",
       "      <th>lt_type</th>\n",
       "      <th>nano_secs</th>\n",
       "      <th>typhoon</th>\n",
       "      <th>day</th>\n",
       "      <th>hour</th>\n",
       "      <th>abs_lt_kA</th>\n",
       "    </tr>\n",
       "  </thead>\n",
       "  <tbody>\n",
       "    <tr>\n",
       "      <th>251</th>\n",
       "      <td>1001324-008</td>\n",
       "      <td>屏東縣</td>\n",
       "      <td>滿州鄉</td>\n",
       "      <td>港仔村</td>\n",
       "      <td>2014-06-14 23:30:27</td>\n",
       "      <td>0.0</td>\n",
       "      <td>(22.145, 120.8562)</td>\n",
       "      <td>IC</td>\n",
       "      <td>208300000</td>\n",
       "      <td>HAGIBIS</td>\n",
       "      <td>14</td>\n",
       "      <td>23</td>\n",
       "      <td>0.0</td>\n",
       "    </tr>\n",
       "    <tr>\n",
       "      <th>252</th>\n",
       "      <td>1001503-005</td>\n",
       "      <td>花蓮縣</td>\n",
       "      <td>玉里鎮</td>\n",
       "      <td>國武里</td>\n",
       "      <td>2014-06-14 23:34:54</td>\n",
       "      <td>0.0</td>\n",
       "      <td>(23.3338, 121.3237)</td>\n",
       "      <td>IC</td>\n",
       "      <td>352000000</td>\n",
       "      <td>HAGIBIS</td>\n",
       "      <td>14</td>\n",
       "      <td>23</td>\n",
       "      <td>0.0</td>\n",
       "    </tr>\n",
       "    <tr>\n",
       "      <th>253</th>\n",
       "      <td>1001416-004</td>\n",
       "      <td>臺東縣</td>\n",
       "      <td>蘭嶼鄉</td>\n",
       "      <td>椰油村</td>\n",
       "      <td>2014-06-14 23:37:27</td>\n",
       "      <td>0.0</td>\n",
       "      <td>(22.0615, 121.5294)</td>\n",
       "      <td>IC</td>\n",
       "      <td>539300000</td>\n",
       "      <td>HAGIBIS</td>\n",
       "      <td>14</td>\n",
       "      <td>23</td>\n",
       "      <td>0.0</td>\n",
       "    </tr>\n",
       "    <tr>\n",
       "      <th>254</th>\n",
       "      <td>1001333-005</td>\n",
       "      <td>屏東縣</td>\n",
       "      <td>牡丹鄉</td>\n",
       "      <td>高士村</td>\n",
       "      <td>2014-06-14 23:37:43</td>\n",
       "      <td>0.0</td>\n",
       "      <td>(22.1443, 120.8766)</td>\n",
       "      <td>IC</td>\n",
       "      <td>595400000</td>\n",
       "      <td>HAGIBIS</td>\n",
       "      <td>14</td>\n",
       "      <td>23</td>\n",
       "      <td>0.0</td>\n",
       "    </tr>\n",
       "    <tr>\n",
       "      <th>255</th>\n",
       "      <td>1001416-002</td>\n",
       "      <td>臺東縣</td>\n",
       "      <td>蘭嶼鄉</td>\n",
       "      <td>朗島村</td>\n",
       "      <td>2014-06-14 23:38:47</td>\n",
       "      <td>0.0</td>\n",
       "      <td>(22.0819, 121.5046)</td>\n",
       "      <td>IC</td>\n",
       "      <td>523800000</td>\n",
       "      <td>HAGIBIS</td>\n",
       "      <td>14</td>\n",
       "      <td>23</td>\n",
       "      <td>0.0</td>\n",
       "    </tr>\n",
       "  </tbody>\n",
       "</table>\n",
       "</div>"
      ],
      "text/plain": [
       "         VilCode COUNTYNAME TOWNNAME VILLNAME             lt_date  lt_kA  \\\n",
       "251  1001324-008        屏東縣      滿州鄉      港仔村 2014-06-14 23:30:27    0.0   \n",
       "252  1001503-005        花蓮縣      玉里鎮      國武里 2014-06-14 23:34:54    0.0   \n",
       "253  1001416-004        臺東縣      蘭嶼鄉      椰油村 2014-06-14 23:37:27    0.0   \n",
       "254  1001333-005        屏東縣      牡丹鄉      高士村 2014-06-14 23:37:43    0.0   \n",
       "255  1001416-002        臺東縣      蘭嶼鄉      朗島村 2014-06-14 23:38:47    0.0   \n",
       "\n",
       "               lt_latlon lt_type  nano_secs  typhoon  day  hour  abs_lt_kA  \n",
       "251   (22.145, 120.8562)      IC  208300000  HAGIBIS   14    23        0.0  \n",
       "252  (23.3338, 121.3237)      IC  352000000  HAGIBIS   14    23        0.0  \n",
       "253  (22.0615, 121.5294)      IC  539300000  HAGIBIS   14    23        0.0  \n",
       "254  (22.1443, 120.8766)      IC  595400000  HAGIBIS   14    23        0.0  \n",
       "255  (22.0819, 121.5046)      IC  523800000  HAGIBIS   14    23        0.0  "
      ]
     },
     "execution_count": 111,
     "metadata": {},
     "output_type": "execute_result"
    }
   ],
   "source": [
    "lighting.head()"
   ]
  },
  {
   "cell_type": "code",
   "execution_count": 148,
   "metadata": {
    "collapsed": true
   },
   "outputs": [],
   "source": [
    "#累積落雷次數\n",
    "# the number of lighting \n",
    "accu_lt_num = lighting.groupby(['VilCode','typhoon'], as_index=False).agg({'lt_type':'count'})\n",
    "accu_lt_num.columns.values[2] = 'accu_lt_num'\n",
    "\n",
    "#小時平均落雷次數\n",
    "# the mean number of lighting by hour\n",
    "mean_hour_lt_num = lighting.groupby(['VilCode','typhoon','day','hour'], as_index=False).agg({'lt_type':'count'}).groupby(['VilCode','typhoon'], as_index=False).agg({'lt_type':'mean'})\n",
    "mean_hour_lt_num.columns.values[2] = 'mean_hour_lt_num'\n",
    "\n",
    "#日平均落雷次數\n",
    "# the mean number of lighting by day\n",
    "mean_day_lt_num = lighting.groupby(['VilCode','typhoon','day'], as_index=False).agg({'lt_type':'count'}).groupby(['VilCode','typhoon'], as_index=False).agg({'lt_type':'mean'})\n",
    "mean_day_lt_num.columns.values[2] = 'mean_day_lt_num'\n",
    "\n",
    "#小時最大落雷次數\n",
    "# the max number of lighting by hour\n",
    "max_hour_lt_num = lighting.groupby(['VilCode','typhoon','day','hour'], as_index=False).agg({'lt_type':'count'}).groupby(['VilCode','typhoon'], as_index=False).agg({'lt_type':'max'})\n",
    "max_hour_lt_num.columns.values[2] = 'max_hour_lt_num'\n",
    "\n",
    "#日最大落雷次數\n",
    "# the max number of lighting by day\n",
    "max_day_lt_num = lighting.groupby(['VilCode','typhoon','day'], as_index=False).agg({'lt_type':'count'}).groupby(['VilCode','typhoon'], as_index=False).agg({'lt_type':'max'})\n",
    "max_day_lt_num.columns.values[2] = 'max_day_lt_num'\n",
    "\n",
    "#最大電流強度\n",
    "# the max lighting power(kA) \n",
    "max_lt = lighting.groupby(['VilCode','typhoon','day'], as_index=False).agg({'abs_lt_kA':'max'}).groupby(['VilCode','typhoon'], as_index=False).agg({'abs_lt_kA':'max'})\n",
    "max_lt.columns.values[2] = 'abs_max_lt'"
   ]
  },
  {
   "cell_type": "code",
   "execution_count": 149,
   "metadata": {
    "collapsed": true
   },
   "outputs": [],
   "source": [
    "df = pd.read_csv(path +'df.csv')"
   ]
  },
  {
   "cell_type": "code",
   "execution_count": 153,
   "metadata": {
    "collapsed": true
   },
   "outputs": [],
   "source": [
    "df2 = pd.merge(df,accu_lt_num,how='left',on=['VilCode','typhoon'])\n",
    "df2 = pd.merge(df2,mean_hour_lt_num,how='left',on=['VilCode','typhoon'])\n",
    "df2 = pd.merge(df2,mean_day_lt_num,how='left',on=['VilCode','typhoon'])\n",
    "df2 = pd.merge(df2,max_hour_lt_num,how='left',on=['VilCode','typhoon'])\n",
    "df2 = pd.merge(df2,max_day_lt_num,how='left',on=['VilCode','typhoon'])\n",
    "df2 = pd.merge(df2,max_lt,how='left',on=['VilCode','typhoon'])"
   ]
  },
  {
   "cell_type": "code",
   "execution_count": 156,
   "metadata": {
    "collapsed": true
   },
   "outputs": [],
   "source": [
    "df2[['accu_lt_num','mean_hour_lt_num', 'mean_day_lt_num', 'max_hour_lt_num',\n",
    "       'max_day_lt_num','abs_max_lt']] = df2[['accu_lt_num','mean_hour_lt_num', 'mean_day_lt_num', 'max_hour_lt_num',\n",
    "       'max_day_lt_num','abs_max_lt']].fillna(0)"
   ]
  },
  {
   "cell_type": "code",
   "execution_count": 157,
   "metadata": {
    "collapsed": true
   },
   "outputs": [],
   "source": [
    "#df_1114 = df_1114.iloc[:,3:]"
   ]
  },
  {
   "cell_type": "code",
   "execution_count": 158,
   "metadata": {
    "collapsed": true
   },
   "outputs": [],
   "source": [
    "df2.to_csv(path+'df.csv',index=False)"
   ]
  }
 ],
 "metadata": {
  "kernelspec": {
   "display_name": "Python 2",
   "language": "python",
   "name": "python2"
  },
  "language_info": {
   "codemirror_mode": {
    "name": "ipython",
    "version": 2
   },
   "file_extension": ".py",
   "mimetype": "text/x-python",
   "name": "python",
   "nbconvert_exporter": "python",
   "pygments_lexer": "ipython2",
   "version": "2.7.13"
  }
 },
 "nbformat": 4,
 "nbformat_minor": 2
}
